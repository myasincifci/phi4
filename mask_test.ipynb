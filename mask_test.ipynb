{
 "cells": [
  {
   "cell_type": "code",
   "execution_count": 1,
   "metadata": {},
   "outputs": [],
   "source": [
    "import torch"
   ]
  },
  {
   "cell_type": "code",
   "execution_count": 2,
   "metadata": {},
   "outputs": [
    {
     "data": {
      "text/plain": [
       "torch.Size([1, 64])"
      ]
     },
     "execution_count": 2,
     "metadata": {},
     "output_type": "execute_result"
    }
   ],
   "source": [
    "x_ = torch.arange(8*8).reshape(1, -1)\n",
    "x_.shape"
   ]
  },
  {
   "cell_type": "code",
   "execution_count": 3,
   "metadata": {},
   "outputs": [],
   "source": [
    "def _split(x, parity):\n",
    "        B, T = x.shape\n",
    "        H, W = 8, 8\n",
    "        x = x.reshape((B, H // 2, 2, W // 2, 2))\n",
    "\n",
    "        on = x[:, :, [0, 1], :, [0, 1]]\n",
    "        off = x[:, :, [0, 1], :, [1, 0]]\n",
    "\n",
    "        on = on.permute(1, 2, 3, 0).reshape(B, T // 2)\n",
    "        off = off.permute(1, 2, 3, 0).reshape(B, T // 2)\n",
    "\n",
    "        if parity == 0:\n",
    "            on, off = off, on\n",
    "\n",
    "        return on, off\n",
    "\n",
    "def _join(on, off, parity):\n",
    "    if parity == 0:\n",
    "        on, off = off, on\n",
    "\n",
    "    B, _ = on.shape\n",
    "    H, W = 8, 8\n",
    "\n",
    "    on = on.reshape(B, H // 2, W // 2, 2)\n",
    "    off = off.reshape(B, H // 2, W // 2, 2)\n",
    "\n",
    "    x = torch.stack((on[..., 0], off[..., 0], off[..., 1], on[..., 1]), dim=3)\n",
    "    x = x.reshape(B, H // 2, W // 2, 2, 2).permute(0, 1, 3, 2, 4).reshape(B, H * W)\n",
    "\n",
    "    return x"
   ]
  },
  {
   "cell_type": "code",
   "execution_count": 7,
   "metadata": {},
   "outputs": [
    {
     "data": {
      "text/plain": [
       "(tensor([[ 1,  8,  3, 10,  5, 12,  7, 14, 17, 24, 19, 26, 21, 28, 23, 30, 33, 40,\n",
       "          35, 42, 37, 44, 39, 46, 49, 56, 51, 58, 53, 60, 55, 62]]),\n",
       " tensor([[ 0,  9,  2, 11,  4, 13,  6, 15, 16, 25, 18, 27, 20, 29, 22, 31, 32, 41,\n",
       "          34, 43, 36, 45, 38, 47, 48, 57, 50, 59, 52, 61, 54, 63]]))"
      ]
     },
     "execution_count": 7,
     "metadata": {},
     "output_type": "execute_result"
    }
   ],
   "source": [
    "_split(x_, 0)"
   ]
  },
  {
   "cell_type": "code",
   "execution_count": 6,
   "metadata": {},
   "outputs": [
    {
     "data": {
      "text/plain": [
       "tensor([[ 0,  1,  2,  3,  4,  5,  6,  7,  8,  9, 10, 11, 12, 13, 14, 15, 16, 17,\n",
       "         18, 19, 20, 21, 22, 23, 24, 25, 26, 27, 28, 29, 30, 31, 32, 33, 34, 35,\n",
       "         36, 37, 38, 39, 40, 41, 42, 43, 44, 45, 46, 47, 48, 49, 50, 51, 52, 53,\n",
       "         54, 55, 56, 57, 58, 59, 60, 61, 62, 63]])"
      ]
     },
     "execution_count": 6,
     "metadata": {},
     "output_type": "execute_result"
    }
   ],
   "source": [
    "_join(*_split(x_, 0), 0)"
   ]
  }
 ],
 "metadata": {
  "kernelspec": {
   "display_name": "base",
   "language": "python",
   "name": "python3"
  },
  "language_info": {
   "codemirror_mode": {
    "name": "ipython",
    "version": 3
   },
   "file_extension": ".py",
   "mimetype": "text/x-python",
   "name": "python",
   "nbconvert_exporter": "python",
   "pygments_lexer": "ipython3",
   "version": "3.9.13"
  },
  "orig_nbformat": 4
 },
 "nbformat": 4,
 "nbformat_minor": 2
}
