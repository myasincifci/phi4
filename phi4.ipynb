{
 "cells": [
  {
   "cell_type": "code",
   "execution_count": 1,
   "metadata": {},
   "outputs": [],
   "source": [
    "import numpy as np\n",
    "import torch\n",
    "from torch import nn\n",
    "\n",
    "import nflows\n",
    "from nflows.flows.base import Flow\n",
    "from nflows.distributions.normal import StandardNormal\n",
    "from nflows.transforms.coupling import AdditiveCouplingTransform, AffineCouplingTransform\n",
    "from nflows.transforms.base import CompositeTransform\n",
    "import matplotlib.pyplot as plt\n",
    "\n",
    "from neulat.action import Phi4Action\n",
    "from loss import ReparamKL\n",
    "from neulat.models import Z2Nice, COUPLINGS\n",
    "\n",
    "from tqdm import tqdm\n",
    "\n",
    "import matplotlib.pyplot as plt "
   ]
  },
  {
   "cell_type": "code",
   "execution_count": 2,
   "metadata": {},
   "outputs": [],
   "source": [
    "device = \"cuda:0\" if torch.cuda.is_available() else \"cpu\""
   ]
  },
  {
   "cell_type": "code",
   "execution_count": 3,
   "metadata": {},
   "outputs": [],
   "source": [
    "T, L = 16, 8\n",
    "lattice_shape = (T,L)"
   ]
  },
  {
   "cell_type": "code",
   "execution_count": 4,
   "metadata": {},
   "outputs": [],
   "source": [
    "kappa = 0.3\n",
    "lambd = 0.022\n",
    "phi4_action = Phi4Action(kappa, lambd)"
   ]
  },
  {
   "attachments": {},
   "cell_type": "markdown",
   "metadata": {},
   "source": [
    "### Define flow in nflows"
   ]
  },
  {
   "cell_type": "code",
   "execution_count": 5,
   "metadata": {},
   "outputs": [],
   "source": [
    "def make_checker_mask(shape, parity):\n",
    "    checker = torch.ones(shape, dtype=torch.uint8) - parity\n",
    "    checker[::2, ::2] = parity\n",
    "    checker[1::2, 1::2] = parity\n",
    "    return checker"
   ]
  },
  {
   "cell_type": "code",
   "execution_count": 6,
   "metadata": {},
   "outputs": [
    {
     "data": {
      "text/plain": [
       "tensor([[0, 1, 0, 1, 0, 1, 0, 1],\n",
       "        [1, 0, 1, 0, 1, 0, 1, 0],\n",
       "        [0, 1, 0, 1, 0, 1, 0, 1],\n",
       "        [1, 0, 1, 0, 1, 0, 1, 0],\n",
       "        [0, 1, 0, 1, 0, 1, 0, 1],\n",
       "        [1, 0, 1, 0, 1, 0, 1, 0],\n",
       "        [0, 1, 0, 1, 0, 1, 0, 1],\n",
       "        [1, 0, 1, 0, 1, 0, 1, 0],\n",
       "        [0, 1, 0, 1, 0, 1, 0, 1],\n",
       "        [1, 0, 1, 0, 1, 0, 1, 0],\n",
       "        [0, 1, 0, 1, 0, 1, 0, 1],\n",
       "        [1, 0, 1, 0, 1, 0, 1, 0],\n",
       "        [0, 1, 0, 1, 0, 1, 0, 1],\n",
       "        [1, 0, 1, 0, 1, 0, 1, 0],\n",
       "        [0, 1, 0, 1, 0, 1, 0, 1],\n",
       "        [1, 0, 1, 0, 1, 0, 1, 0]], dtype=torch.uint8)"
      ]
     },
     "execution_count": 6,
     "metadata": {},
     "output_type": "execute_result"
    }
   ],
   "source": [
    "make_checker_mask(lattice_shape, 0)"
   ]
  },
  {
   "cell_type": "code",
   "execution_count": 7,
   "metadata": {},
   "outputs": [],
   "source": [
    "def make_mask(lattice_shape, parity):\n",
    "    \"\"\"\n",
    "    Input: B x T, flattened 8*8\n",
    "    \"\"\"\n",
    "    mask = make_checker_mask(lattice_shape, parity)\n",
    "    return mask.flatten()"
   ]
  },
  {
   "cell_type": "code",
   "execution_count": 8,
   "metadata": {},
   "outputs": [
    {
     "data": {
      "text/plain": [
       "tensor([1, 1, 1, 1, 1, 1, 1, 1, 1, 1, 1, 1, 1, 1, 1, 1, 1, 1, 1, 1, 1, 1, 1, 1,\n",
       "        1, 1, 1, 1, 1, 1, 1, 1, 1, 1, 1, 1, 1, 1, 1, 1, 1, 1, 1, 1, 1, 1, 1, 1,\n",
       "        1, 1, 1, 1, 1, 1, 1, 1, 1, 1, 1, 1, 1, 1, 1, 1, 1, 1, 1, 1, 1, 1, 1, 1,\n",
       "        1, 1, 1, 1, 1, 1, 1, 1, 1, 1, 1, 1, 1, 1, 1, 1, 1, 1, 1, 1, 1, 1, 1, 1,\n",
       "        1, 1, 1, 1, 1, 1, 1, 1, 1, 1, 1, 1, 1, 1, 1, 1, 1, 1, 1, 1, 1, 1, 1, 1,\n",
       "        1, 1, 1, 1, 1, 1, 1, 1], dtype=torch.uint8)"
      ]
     },
     "execution_count": 8,
     "metadata": {},
     "output_type": "execute_result"
    }
   ],
   "source": [
    "make_mask(lattice_shape, 0) + make_mask(lattice_shape, 1)"
   ]
  },
  {
   "cell_type": "code",
   "execution_count": 9,
   "metadata": {},
   "outputs": [],
   "source": [
    "class Net(nn.Module):\n",
    "    def __init__(self, num_id, num_trf) -> None:\n",
    "        super().__init__()\n",
    "        mid_dim=1000\n",
    "        nblocks=4\n",
    "\n",
    "        self.net = nn.Sequential(\n",
    "            nn.Linear(num_id, mid_dim, bias=False),\n",
    "            nn.Tanh(),\n",
    "            nn.Sequential(*[\n",
    "                nn.Sequential(\n",
    "                    nn.Linear(mid_dim, mid_dim, bias=False),\n",
    "                    nn.Tanh(),\n",
    "                ) for _ in range(nblocks)\n",
    "            ]),\n",
    "            nn.Linear(mid_dim, num_trf, bias=False)\n",
    "        )\n",
    "    \n",
    "    def forward(self, x, ctx):\n",
    "        return self.net(x)"
   ]
  },
  {
   "cell_type": "code",
   "execution_count": 10,
   "metadata": {},
   "outputs": [],
   "source": [
    "class Z2NICE(AdditiveCouplingTransform):\n",
    "    def __init__(self, mask, transform_net_create_fn, unconditional_transform=None, scale_activation=...):\n",
    "        super().__init__(mask, transform_net_create_fn, unconditional_transform, scale_activation)\n",
    "\n",
    "        self.scale = nn.Parameter(\n",
    "            torch.zeros((1, torch.tensor(list(lattice_shape)).prod()//2)),\n",
    "            requires_grad=True\n",
    "        )\n",
    "\n",
    "    def _scale_and_shift(self, transform_params):\n",
    "        shift = transform_params\n",
    "        scale = torch.exp(self.scale)\n",
    "        return scale, shift"
   ]
  },
  {
   "cell_type": "code",
   "execution_count": 11,
   "metadata": {},
   "outputs": [],
   "source": [
    "num_layers = 6\n",
    "base_dist = StandardNormal(shape=[128]).to(device)\n",
    "\n",
    "transforms = []\n",
    "for i in range(num_layers):\n",
    "    transforms.append(\n",
    "        Z2NICE(\n",
    "            make_mask(lattice_shape, i % 2), \n",
    "            Net\n",
    "        ),\n",
    "    )\n",
    "transform = CompositeTransform(transforms)\n",
    "\n",
    "flow_nflows = Flow(transform, base_dist)"
   ]
  },
  {
   "cell_type": "code",
   "execution_count": 12,
   "metadata": {},
   "outputs": [],
   "source": [
    "coupling_factory = COUPLINGS[\"checkerfc\"]\n",
    "flow_neulat = Z2Nice(\n",
    "    lat_shape=lattice_shape,\n",
    "    coupling_factory=coupling_factory,\n",
    "    ncouplings=6,\n",
    "    nblocks=4,\n",
    "    global_scaling=False\n",
    ")"
   ]
  },
  {
   "attachments": {},
   "cell_type": "markdown",
   "metadata": {},
   "source": [
    "### Training"
   ]
  },
  {
   "cell_type": "code",
   "execution_count": 13,
   "metadata": {},
   "outputs": [],
   "source": [
    "flow = flow_nflows\n",
    "flow = flow.to(device)"
   ]
  },
  {
   "cell_type": "code",
   "execution_count": 14,
   "metadata": {},
   "outputs": [],
   "source": [
    "kl_loss = ReparamKL(\n",
    "    model=flow, \n",
    "    action=phi4_action, \n",
    "    lat_shape=lattice_shape,\n",
    "    batch_size=20_000\n",
    ")"
   ]
  },
  {
   "cell_type": "code",
   "execution_count": 15,
   "metadata": {},
   "outputs": [],
   "source": [
    "def train_step(model, action, optimizer):\n",
    "    \n",
    "    optimizer.zero_grad()\n",
    "\n",
    "    loss, loss_summands, actions = kl_loss()\n",
    "    \n",
    "    loss.backward()\n",
    "    optimizer.step()\n",
    "    \n",
    "    print(\"loss\", loss.cpu().item())\n",
    "\n",
    "    return loss.cpu().item()"
   ]
  },
  {
   "cell_type": "code",
   "execution_count": 16,
   "metadata": {},
   "outputs": [],
   "source": [
    "losses = []"
   ]
  },
  {
   "cell_type": "code",
   "execution_count": 42,
   "metadata": {},
   "outputs": [
    {
     "name": "stdout",
     "output_type": "stream",
     "text": [
      "0\n",
      "loss -133.62335205078125\n",
      "1\n",
      "loss -133.6060791015625\n",
      "2\n",
      "loss -133.62391662597656\n",
      "3\n",
      "loss -133.61863708496094\n",
      "4\n",
      "loss -133.62069702148438\n",
      "5\n",
      "loss -133.6200408935547\n",
      "6\n",
      "loss -133.64463806152344\n",
      "7\n",
      "loss -133.63333129882812\n",
      "8\n",
      "loss -133.61972045898438\n",
      "9\n",
      "loss -133.64596557617188\n",
      "10\n",
      "loss -133.61341857910156\n",
      "11\n",
      "loss -133.62884521484375\n",
      "12\n",
      "loss -133.62425231933594\n",
      "13\n",
      "loss -133.6189727783203\n",
      "14\n",
      "loss -133.6300506591797\n",
      "15\n",
      "loss -133.6457061767578\n",
      "16\n",
      "loss -133.6299285888672\n",
      "17\n",
      "loss -133.6389923095703\n",
      "18\n",
      "loss -133.6471405029297\n",
      "19\n",
      "loss -133.6358642578125\n",
      "20\n",
      "loss -133.62120056152344\n",
      "21\n",
      "loss -133.62045288085938\n",
      "22\n",
      "loss -133.64476013183594\n",
      "23\n",
      "loss -133.61624145507812\n",
      "24\n",
      "loss -133.6324462890625\n",
      "25\n",
      "loss -133.63453674316406\n",
      "26\n",
      "loss -133.638671875\n",
      "27\n",
      "loss -133.66539001464844\n",
      "28\n",
      "loss -133.63681030273438\n",
      "29\n",
      "loss -133.6185760498047\n",
      "30\n",
      "loss -133.64537048339844\n",
      "31\n",
      "loss -133.65899658203125\n",
      "32\n",
      "loss -133.64761352539062\n",
      "33\n",
      "loss -133.6377716064453\n",
      "34\n",
      "loss -133.61038208007812\n",
      "35\n",
      "loss -133.64308166503906\n",
      "36\n",
      "loss -133.63133239746094\n",
      "37\n",
      "loss -133.60690307617188\n",
      "38\n",
      "loss -133.63668823242188\n",
      "39\n",
      "loss -133.63174438476562\n",
      "40\n",
      "loss -133.63592529296875\n",
      "41\n",
      "loss -133.61534118652344\n",
      "42\n",
      "loss -133.62811279296875\n",
      "43\n",
      "loss -133.6286163330078\n",
      "44\n",
      "loss -133.6553955078125\n",
      "45\n",
      "loss -133.62449645996094\n",
      "46\n",
      "loss -133.6115264892578\n",
      "47\n",
      "loss -133.63839721679688\n",
      "48\n",
      "loss -133.61769104003906\n",
      "49\n",
      "loss -133.63052368164062\n",
      "50\n",
      "loss -133.63475036621094\n",
      "51\n",
      "loss -133.6365203857422\n",
      "52\n",
      "loss -133.64572143554688\n",
      "53\n",
      "loss -133.6444854736328\n",
      "54\n",
      "loss -133.64480590820312\n",
      "55\n",
      "loss -133.67294311523438\n",
      "56\n",
      "loss -133.6409149169922\n",
      "57\n",
      "loss -133.64602661132812\n",
      "58\n",
      "loss -133.62979125976562\n",
      "59\n",
      "loss -133.64764404296875\n",
      "60\n",
      "loss -133.643798828125\n",
      "61\n",
      "loss -133.62997436523438\n",
      "62\n",
      "loss -133.62132263183594\n",
      "63\n",
      "loss -133.64923095703125\n",
      "64\n",
      "loss -133.6375274658203\n",
      "65\n",
      "loss -133.6520233154297\n",
      "66\n",
      "loss -133.64540100097656\n",
      "67\n",
      "loss -133.6196746826172\n",
      "68\n",
      "loss -133.64337158203125\n",
      "69\n",
      "loss -133.64178466796875\n",
      "70\n",
      "loss -133.63345336914062\n",
      "71\n",
      "loss -133.62782287597656\n",
      "72\n",
      "loss -133.6338348388672\n",
      "73\n",
      "loss -133.6345672607422\n",
      "74\n",
      "loss -133.6498260498047\n",
      "75\n",
      "loss -133.6469268798828\n",
      "76\n",
      "loss -133.60585021972656\n",
      "77\n",
      "loss -133.6378173828125\n",
      "78\n",
      "loss -133.65744018554688\n",
      "79\n",
      "loss -133.63938903808594\n",
      "80\n",
      "loss -133.65805053710938\n",
      "81\n",
      "loss -133.63880920410156\n",
      "82\n",
      "loss -133.64035034179688\n",
      "83\n",
      "loss -133.6132354736328\n",
      "84\n",
      "loss -133.63125610351562\n",
      "85\n",
      "loss -133.63331604003906\n",
      "86\n",
      "loss -133.6505889892578\n",
      "87\n",
      "loss -133.6591033935547\n",
      "88\n",
      "loss -133.6564483642578\n",
      "89\n",
      "loss -133.6267547607422\n",
      "90\n",
      "loss -133.65127563476562\n",
      "91\n",
      "loss -133.62738037109375\n",
      "92\n",
      "loss -133.6405029296875\n",
      "93\n",
      "loss -133.63815307617188\n",
      "94\n",
      "loss -133.6407928466797\n",
      "95\n",
      "loss -133.6429901123047\n",
      "96\n",
      "loss -133.64430236816406\n",
      "97\n",
      "loss -133.63739013671875\n",
      "98\n",
      "loss -133.66644287109375\n",
      "99\n",
      "loss -133.6517791748047\n"
     ]
    }
   ],
   "source": [
    "optimizer = torch.optim.AdamW(flow.parameters(), lr=4e-6, amsgrad=True)\n",
    "for epoch in range(100):\n",
    "    print(epoch)\n",
    "    loss = train_step(flow_nflows, phi4_action, optimizer)\n",
    "    losses.append(loss)"
   ]
  },
  {
   "cell_type": "code",
   "execution_count": 43,
   "metadata": {},
   "outputs": [
    {
     "data": {
      "text/plain": [
       "[<matplotlib.lines.Line2D at 0x7f94b9675940>]"
      ]
     },
     "execution_count": 43,
     "metadata": {},
     "output_type": "execute_result"
    },
    {
     "data": {
      "image/png": "[encoded data removed]",
      "text/plain": [
       "<Figure size 640x480 with 1 Axes>"
      ]
     },
     "metadata": {},
     "output_type": "display_data"
    }
   ],
   "source": [
    "plt.plot(losses)"
   ]
  },
  {
   "cell_type": "code",
   "execution_count": 19,
   "metadata": {},
   "outputs": [],
   "source": [
    "torch.save(flow.state_dict(), \"model_nflows.pth\")"
   ]
  }
 ],
 "metadata": {
  "kernelspec": {
   "display_name": "base",
   "language": "python",
   "name": "python3"
  },
  "language_info": {
   "codemirror_mode": {
    "name": "ipython",
    "version": 3
   },
   "file_extension": ".py",
   "mimetype": "text/x-python",
   "name": "python",
   "nbconvert_exporter": "python",
   "pygments_lexer": "ipython3",
   "version": "3.9.13"
  },
  "orig_nbformat": 4
 },
 "nbformat": 4,
 "nbformat_minor": 2
}
